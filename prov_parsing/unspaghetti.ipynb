{
 "cells": [
  {
   "cell_type": "code",
   "execution_count": 143,
   "metadata": {},
   "outputs": [],
   "source": [
    "import yaml\n",
    "import glob\n",
    "from collections import OrderedDict\n",
    "\n",
    "import qiime2.plugins\n",
    "import importlib\n",
    "from qiime2.sdk import Result"
   ]
  },
  {
   "cell_type": "code",
   "execution_count": 57,
   "metadata": {},
   "outputs": [],
   "source": [
    "final_artifact = Result.load('diff.qzv')\n",
    "results = {}\n",
    "for result in glob.glob('*.qz*'):\n",
    "    results[Result.peek(result).uuid] = result"
   ]
  },
  {
   "cell_type": "code",
   "execution_count": 172,
   "metadata": {},
   "outputs": [],
   "source": [
    "yaml.add_constructor('!ref', lambda x, y: y)\n",
    "yaml.add_constructor('!cite', lambda x, y: y)\n",
    "\n",
    "def get_import(action, prov_dir, results, uuid):\n",
    "    cmd = ['qiime', 'tools', 'import', '--input-path']\n",
    "    assert len(action['action']['manifest']) == 1\n",
    "    cmd.append(action['action']['manifest'][0]['name'])\n",
    "    cmd.append('--input-format')\n",
    "    cmd.append(action['action']['format'])\n",
    "    cmd.append('--type')\n",
    "    with (prov_dir / 'artifacts' / uuid / 'metadata.yaml').open() as fh:\n",
    "        metadata = yaml.load(fh)\n",
    "    cmd.append(metadata['type'])\n",
    "    cmd.append('--output-path')\n",
    "    cmd.append(results[uuid])\n",
    "    return ' '.join(cmd)\n",
    "    \n",
    "def get_command(action, results, prov_dir, uuid):\n",
    "    if action['action']['type'] == 'import':\n",
    "        return get_import(action, prov_dir, results, uuid), []\n",
    "    cmd = ['qiime']\n",
    "    cmd.append(action['action']['plugin'].value.split(':')[-1])\n",
    "    cmd.append(action['action']['action'].replace('_', '-'))\n",
    "    for param_dict in action['action']['parameters']:\n",
    "        (param, value), = param_dict.items()\n",
    "        mod = importlib.import_module(\n",
    "            'qiime2.plugins.' + \n",
    "            action['action']['plugin'].value.split(':')[-1].replace('-', '_'),\n",
    "        )\n",
    "        parameters = getattr(mod.actions, action['action']['action']).signature.parameters\n",
    "        if value != parameters[param].default:\n",
    "            param_sig = parameters[param]\n",
    "            if 'Metadata' in param_sig.qiime_type.name:\n",
    "                assert False\n",
    "            elif param_sig.qiime_type.name == 'Bool':\n",
    "                cmd.append('--p-' + ('' if value else 'no-') + param.replace('_', '-'))\n",
    "            else:\n",
    "                cmd.append('--p-' + param.replace('_', '-'))\n",
    "                cmd.append(str(value))\n",
    "    required_artifacts = []\n",
    "    cmd.append('--o-' + action['action']['output-name'].replace('_', '-'))\n",
    "    cmd.append(results[uuid])\n",
    "    for imput in action['action']['inputs']:\n",
    "        (imput, uuid), = imput.items()\n",
    "        if uuid is None:\n",
    "            continue\n",
    "        cmd.append('--i-' + imput.replace('_', '-'))\n",
    "        cmd.append(results[uuid])\n",
    "        required_artifacts.append(uuid)\n",
    "    return ' '.join(cmd), required_artifacts\n",
    "\n",
    "def get_commands(action, results, prov_dir, uuid=None):\n",
    "    cmd, dependencies = get_command(action, results, prov_dir, uuid)\n",
    "    commands = [cmd]\n",
    "    for uuid in dependencies:\n",
    "        with (prov_dir / 'artifacts' / uuid / 'action' / 'action.yaml').open() as fh:\n",
    "            action = yaml.load(fh)\n",
    "        commands.extend(get_commands(action, results, prov_dir, uuid))\n",
    "    return commands"
   ]
  },
  {
   "cell_type": "code",
   "execution_count": 173,
   "metadata": {},
   "outputs": [],
   "source": [
    "with (final_artifact._archiver.provenance_dir / 'action' / 'action.yaml').open() as fh:\n",
    "    action = yaml.load(fh)        "
   ]
  },
  {
   "cell_type": "code",
   "execution_count": 174,
   "metadata": {},
   "outputs": [
    {
     "name": "stdout",
     "output_type": "stream",
     "text": [
      "qiime tools import --input-path 99_otu_taxonomy.txt --input-format HeaderlessTSVTaxonomyFormat --type FeatureData[Taxonomy] --output-path ref-tax.qza\n",
      "qiime tools import --input-path 99_otus.fasta --input-format DNAFASTAFormat --type FeatureData[Sequence] --output-path ref-seq.qza\n",
      "qiime feature-classifier extract-reads --p-f-primer GTGCCAGCMGCCGCGGTAA --p-r-primer GGACTACHVGGGTWTCTAAT --p-trunc-len 100 --o-reads ref-seq-515f-806r-100nt.qza --i-sequences ref-seq.qza\n",
      "qiime feature-classifier fit-classifier-naive-bayes --o-classifier uniform.qza --i-reference-reads ref-seq-515f-806r-100nt.qza --i-reference-taxonomy ref-tax.qza\n",
      "qiime tools import --input-path all.biom --input-format BIOMV210Format --type FeatureTable[Frequency] --output-path cheese.qza\n",
      "qiime clawback sequence-variants-from-samples --o-sequences cheese-seq.qza --i-samples cheese.qza\n",
      "qiime feature-classifier classify-sklearn --o-classification uniform-cheese.qza --i-reads cheese-seq.qza --i-classifier uniform.qza\n",
      "qiime taxa collapse --p-level 7 --o-collapsed-table uniform-collapsed.qza --i-table cheese.qza --i-taxonomy uniform-cheese.qza\n",
      "qiime feature-table relative-frequency --o-relative-frequency-table uniform-collapsed-relative.qza --i-table uniform-collapsed.qza\n",
      "qiime feature-classifier classify-sklearn --p-confidence -1.0 --o-classification full-confidence.qza --i-reads cheese-seq.qza --i-classifier uniform.qza\n",
      "qiime clawback generate-class-weights --o-class-weight cheese-weight.qza --i-reference-taxonomy ref-tax.qza --i-reference-sequences ref-seq-515f-806r-100nt.qza --i-samples cheese.qza --i-taxonomy-classification full-confidence.qza\n",
      "qiime feature-classifier fit-classifier-naive-bayes --o-classifier bespoke.qza --i-reference-reads ref-seq-515f-806r-100nt.qza --i-reference-taxonomy ref-tax.qza --i-class-weight cheese-weight.qza\n",
      "qiime feature-classifier classify-sklearn --o-classification bespoke-cheese.qza --i-reads cheese-seq.qza --i-classifier bespoke.qza\n",
      "qiime taxa collapse --p-level 7 --o-collapsed-table bespoke-collapsed.qza --i-table cheese.qza --i-taxonomy bespoke-cheese.qza\n",
      "qiime feature-table relative-frequency --o-relative-frequency-table bespoke-collapsed-relative.qza --i-table bespoke-collapsed.qza\n",
      "qiime quality-control evaluate-composition --o-visualization diff.qzv --i-expected-features bespoke-collapsed-relative.qza --i-observed-features uniform-collapsed-relative.qza\n"
     ]
    }
   ],
   "source": [
    "commands = reversed(get_commands(action, results, final_artifact._archiver.provenance_dir, str(final_artifact.uuid)))\n",
    "for cmd in OrderedDict([(c, None) for c in commands]):\n",
    "    print(cmd)"
   ]
  },
  {
   "cell_type": "code",
   "execution_count": null,
   "metadata": {},
   "outputs": [],
   "source": []
  }
 ],
 "metadata": {
  "kernelspec": {
   "display_name": "Python 3",
   "language": "python",
   "name": "python3"
  },
  "language_info": {
   "codemirror_mode": {
    "name": "ipython",
    "version": 3
   },
   "file_extension": ".py",
   "mimetype": "text/x-python",
   "name": "python",
   "nbconvert_exporter": "python",
   "pygments_lexer": "ipython3",
   "version": "3.5.5"
  }
 },
 "nbformat": 4,
 "nbformat_minor": 2
}
